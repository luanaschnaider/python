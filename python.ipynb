{
  "nbformat": 4,
  "nbformat_minor": 0,
  "metadata": {
    "colab": {
      "provenance": [],
      "authorship_tag": "ABX9TyMng2queJ4gk0UD+wu+hHFE",
      "include_colab_link": true
    },
    "kernelspec": {
      "name": "python3",
      "display_name": "Python 3"
    },
    "language_info": {
      "name": "python"
    }
  },
  "cells": [
    {
      "cell_type": "markdown",
      "metadata": {
        "id": "view-in-github",
        "colab_type": "text"
      },
      "source": [
        "<a href=\"https://colab.research.google.com/github/luanaschnaider/python/blob/main/python.ipynb\" target=\"_parent\"><img src=\"https://colab.research.google.com/assets/colab-badge.svg\" alt=\"Open In Colab\"/></a>"
      ]
    },
    {
      "cell_type": "markdown",
      "source": [
        "#**aula1**  ❄ ☑ ⚒"
      ],
      "metadata": {
        "id": "jkACt4wczd4u"
      }
    },
    {
      "cell_type": "code",
      "execution_count": null,
      "metadata": {
        "colab": {
          "base_uri": "https://localhost:8080/"
        },
        "id": "xncuqW8UzJ1G",
        "outputId": "fc7cb344-34b4-49db-e281-223265ef291a"
      },
      "outputs": [
        {
          "output_type": "stream",
          "name": "stdout",
          "text": [
            "X competição de programação dá Start\n"
          ]
        }
      ],
      "source": [
        "ano = \"X\"\n",
        "print (ano, \"competição de programação dá Start\")"
      ]
    },
    {
      "cell_type": "markdown",
      "source": [
        "# **aula2** ⚖ ⛓ ⚔"
      ],
      "metadata": {
        "id": "HvS7IwcL2OVi"
      }
    },
    {
      "cell_type": "code",
      "source": [
        "livro_ficcao = 8\n",
        "livro_n_ficcao = 10\n",
        "livro_infantil = 6\n",
        "pontos_rodrigo = livro_ficcao + livro_n_ficcao + livro_infantil\n",
        "pontos_ana = 2* livro_ficcao + 5 * livro_infantil\n",
        "pontos_totais = pontos_rodrigo + pontos_ana\n",
        "print(f\"Os pontos totais do Rodrigo são {pontos_rodrigo}\")\n",
        "print(f\"Os pontos totais da ana são {pontos_ana}\")\n",
        "print(f\"Os pontos totais de ana e rodrigo são {pontos_totais}\")"
      ],
      "metadata": {
        "colab": {
          "base_uri": "https://localhost:8080/"
        },
        "id": "1viyXzqm2aCZ",
        "outputId": "82aac75d-04f5-4ba0-8383-8e7ff4f9aa20"
      },
      "execution_count": null,
      "outputs": [
        {
          "output_type": "stream",
          "name": "stdout",
          "text": [
            "Os pontos totais do Rodrigo são 24\n",
            "Os pontos totais da ana são 46\n",
            "Os pontos totais de ana e rodrigo são 70\n"
          ]
        }
      ]
    },
    {
      "cell_type": "markdown",
      "source": [
        "#**aula 4** ⚓ ✈ ♥\n",
        "\n",
        "##dia de prova"
      ],
      "metadata": {
        "id": "XZbGpCK23200"
      }
    },
    {
      "cell_type": "code",
      "source": [
        "P = int(input(\"Digite a posição da porta P (0 ou 1): \"))\n",
        "R = int(input(\"Digite a posição da porta R (0 ou 1): \"))\n",
        "if P == 0:\n",
        "    print(\"C\")\n",
        "elif R == 1:\n",
        "    print(\"A\")\n",
        "else:\n",
        "    print(\"B\")\n"
      ],
      "metadata": {
        "colab": {
          "base_uri": "https://localhost:8080/"
        },
        "id": "x-5rHU_x5tJ3",
        "outputId": "e26f6afc-44d8-457d-b94d-fae5493fb54f"
      },
      "execution_count": null,
      "outputs": [
        {
          "output_type": "stream",
          "name": "stdout",
          "text": [
            "Digite a posição da porta P (0 ou 1): 0\n",
            "Digite a posição da porta R (0 ou 1): 1\n",
            "C\n"
          ]
        }
      ]
    },
    {
      "cell_type": "markdown",
      "source": [
        "# **aula5 - Cálculo de IMC** ⛈ ☄ ⛲"
      ],
      "metadata": {
        "id": "OGs1ysPS7ad0"
      }
    },
    {
      "cell_type": "code",
      "source": [
        "peso = float(input(\"Digite seu peso (em kg): \"))\n",
        "altura = float(input(\"Digite sua altura (em metros): \"))\n",
        "imc = peso / (altura ** 2)\n",
        "print(f\"\\nSeu IMC é: {imc:.2f}\")\n",
        "if imc < 18.5:\n",
        "    print(\"Você está abaixo do peso.\")\n",
        "elif 18.5 <= imc < 25:\n",
        "    print(\"Você está no peso ideal.\")\n",
        "elif 25 <= imc < 30:\n",
        "    print(\"Você está com sobrepeso.\")\n",
        "else:\n",
        "    print(\"Você está acima do peso.\")"
      ],
      "metadata": {
        "colab": {
          "base_uri": "https://localhost:8080/"
        },
        "id": "NN_KXOcP7t_K",
        "outputId": "9bbc3d55-d430-4d82-c7d6-764a596b06f5"
      },
      "execution_count": null,
      "outputs": [
        {
          "output_type": "stream",
          "name": "stdout",
          "text": [
            "Digite seu peso (em kg): 75\n",
            "Digite sua altura (em metros): 1.71\n",
            "\n",
            "Seu IMC é: 25.65\n",
            "Você está com sobrepeso.\n"
          ]
        }
      ]
    },
    {
      "cell_type": "markdown",
      "source": [
        "# **aula6 tabuada** ♒ ⚗ ⚕"
      ],
      "metadata": {
        "id": "C0mUQUY1_T-e"
      }
    },
    {
      "cell_type": "code",
      "source": [
        "def tabuada(numero):\n",
        "    for contador in range(1, 11):  # Gera números de 1 a 10\n",
        "        print(f\"{numero} x {contador} = {numero * contador}\")\n",
        "numero = int(input(\"Digite um número para ver sua tabuada: \"))\n",
        "tabuada(numero)"
      ],
      "metadata": {
        "colab": {
          "base_uri": "https://localhost:8080/"
        },
        "id": "w9LyRdZa_zRn",
        "outputId": "5be72dbc-afec-49d9-8799-561e7ecb6617"
      },
      "execution_count": null,
      "outputs": [
        {
          "output_type": "stream",
          "name": "stdout",
          "text": [
            "Digite um número para ver sua tabuada: 12\n",
            "12 x 1 = 12\n",
            "12 x 2 = 24\n",
            "12 x 3 = 36\n",
            "12 x 4 = 48\n",
            "12 x 5 = 60\n",
            "12 x 6 = 72\n",
            "12 x 7 = 84\n",
            "12 x 8 = 96\n",
            "12 x 9 = 108\n",
            "12 x 10 = 120\n"
          ]
        }
      ]
    },
    {
      "cell_type": "markdown",
      "source": [
        "# **aula7 Idade** ✨ ⚡ ⚜"
      ],
      "metadata": {
        "id": "oxdIMVgvCXF5"
      }
    },
    {
      "cell_type": "code",
      "source": [],
      "metadata": {
        "id": "Ejt_dcu7CvSh"
      },
      "execution_count": null,
      "outputs": []
    }
  ]
}